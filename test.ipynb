{
 "cells": [
  {
   "cell_type": "code",
   "execution_count": 10,
   "id": "eb98d707-bc84-43a6-9f5b-8d174c2f813d",
   "metadata": {
    "collapsed": true,
    "jupyter": {
     "outputs_hidden": true
    },
    "tags": []
   },
   "outputs": [
    {
     "name": "stdout",
     "output_type": "stream",
     "text": [
      "Requirement already satisfied: ipadic in ./envs/test/lib/python3.11/site-packages (1.0.0)\n",
      "Note: you may need to restart the kernel to use updated packages.\n"
     ]
    }
   ],
   "source": [
    "pip install ipadic"
   ]
  },
  {
   "cell_type": "code",
   "execution_count": 19,
   "id": "f273b237-d5df-47c7-a6e1-a06d096d6c66",
   "metadata": {
    "collapsed": true,
    "jupyter": {
     "outputs_hidden": true
    },
    "tags": []
   },
   "outputs": [
    {
     "name": "stdout",
     "output_type": "stream",
     "text": [
      "Requirement already satisfied: fugashi in ./envs/test/lib/python3.11/site-packages (1.2.1)\n",
      "Note: you may need to restart the kernel to use updated packages.\n"
     ]
    }
   ],
   "source": [
    "pip install fugashi"
   ]
  },
  {
   "cell_type": "code",
   "execution_count": 7,
   "id": "5d2dcb78-0dc8-476d-ab01-db7510ef15c8",
   "metadata": {
    "collapsed": true,
    "jupyter": {
     "outputs_hidden": true
    },
    "tags": []
   },
   "outputs": [
    {
     "name": "stdout",
     "output_type": "stream",
     "text": [
      "Collecting mecab-python3\n",
      "  Downloading mecab_python3-1.0.6-cp311-cp311-macosx_10_9_universal2.whl (314 kB)\n",
      "\u001b[2K     \u001b[90m━━━━━━━━━━━━━━━━━━━━━━━━━━━━━━━━━━━━━━━\u001b[0m \u001b[32m314.5/314.5 kB\u001b[0m \u001b[31m5.0 MB/s\u001b[0m eta \u001b[36m0:00:00\u001b[0ma \u001b[36m0:00:01\u001b[0m\n",
      "\u001b[?25hInstalling collected packages: mecab-python3\n",
      "Successfully installed mecab-python3-1.0.6\n"
     ]
    }
   ],
   "source": [
    "!pip install mecab-python3"
   ]
  },
  {
   "cell_type": "code",
   "execution_count": 8,
   "id": "3f0de4a3-fae7-4a04-acf4-cb56d204aade",
   "metadata": {
    "collapsed": true,
    "jupyter": {
     "outputs_hidden": true
    },
    "tags": []
   },
   "outputs": [
    {
     "name": "stdout",
     "output_type": "stream",
     "text": [
      "Collecting transformers\n",
      "  Downloading transformers-4.27.2-py3-none-any.whl (6.8 MB)\n",
      "\u001b[2K     \u001b[90m━━━━━━━━━━━━━━━━━━━━━━━━━━━━━━━━━━━━━━━━\u001b[0m \u001b[32m6.8/6.8 MB\u001b[0m \u001b[31m707.4 kB/s\u001b[0m eta \u001b[36m0:00:00\u001b[0m00:01\u001b[0m00:01\u001b[0m\n",
      "\u001b[?25hRequirement already satisfied: filelock in ./envs/test/lib/python3.11/site-packages (from transformers) (3.10.2)\n",
      "Collecting huggingface-hub<1.0,>=0.11.0\n",
      "  Downloading huggingface_hub-0.13.3-py3-none-any.whl (199 kB)\n",
      "\u001b[2K     \u001b[90m━━━━━━━━━━━━━━━━━━━━━━━━━━━━━━━━━━━━━━━\u001b[0m \u001b[32m199.8/199.8 kB\u001b[0m \u001b[31m3.8 MB/s\u001b[0m eta \u001b[36m0:00:00\u001b[0ma \u001b[36m0:00:01\u001b[0m\n",
      "\u001b[?25hRequirement already satisfied: numpy>=1.17 in ./envs/test/lib/python3.11/site-packages (from transformers) (1.23.5)\n",
      "Requirement already satisfied: packaging>=20.0 in ./envs/test/lib/python3.11/site-packages (from transformers) (23.0)\n",
      "Collecting pyyaml>=5.1\n",
      "  Downloading PyYAML-6.0-cp311-cp311-macosx_10_9_x86_64.whl (188 kB)\n",
      "\u001b[2K     \u001b[90m━━━━━━━━━━━━━━━━━━━━━━━━━━━━━━━━━━━━━━\u001b[0m \u001b[32m188.6/188.6 kB\u001b[0m \u001b[31m12.5 MB/s\u001b[0m eta \u001b[36m0:00:00\u001b[0m\n",
      "\u001b[?25hCollecting regex!=2019.12.17\n",
      "  Downloading regex-2023.3.22-cp311-cp311-macosx_10_9_x86_64.whl (293 kB)\n",
      "\u001b[2K     \u001b[90m━━━━━━━━━━━━━━━━━━━━━━━━━━━━━━━━━━━━━━\u001b[0m \u001b[32m293.3/293.3 kB\u001b[0m \u001b[31m12.8 MB/s\u001b[0m eta \u001b[36m0:00:00\u001b[0m\n",
      "\u001b[?25hRequirement already satisfied: requests in ./envs/test/lib/python3.11/site-packages (from transformers) (2.28.1)\n",
      "Collecting tokenizers!=0.11.3,<0.14,>=0.11.1\n",
      "  Downloading tokenizers-0.13.2-cp311-cp311-macosx_10_11_universal2.whl (3.8 MB)\n",
      "\u001b[2K     \u001b[90m━━━━━━━━━━━━━━━━━━━━━━━━━━━━━━━━━━━━━━━━\u001b[0m \u001b[32m3.8/3.8 MB\u001b[0m \u001b[31m715.3 kB/s\u001b[0m eta \u001b[36m0:00:00\u001b[0m00:01\u001b[0m00:01\u001b[0m\n",
      "\u001b[?25hCollecting tqdm>=4.27\n",
      "  Downloading tqdm-4.65.0-py3-none-any.whl (77 kB)\n",
      "\u001b[2K     \u001b[90m━━━━━━━━━━━━━━━━━━━━━━━━━━━━━━━━━━━━━━━━\u001b[0m \u001b[32m77.1/77.1 kB\u001b[0m \u001b[31m1.9 MB/s\u001b[0m eta \u001b[36m0:00:00\u001b[0ma \u001b[36m0:00:01\u001b[0m\n",
      "\u001b[?25hRequirement already satisfied: typing-extensions>=3.7.4.3 in ./envs/test/lib/python3.11/site-packages (from huggingface-hub<1.0,>=0.11.0->transformers) (4.4.0)\n",
      "Requirement already satisfied: charset-normalizer<3,>=2 in ./envs/test/lib/python3.11/site-packages (from requests->transformers) (2.0.4)\n",
      "Requirement already satisfied: idna<4,>=2.5 in ./envs/test/lib/python3.11/site-packages (from requests->transformers) (3.4)\n",
      "Requirement already satisfied: urllib3<1.27,>=1.21.1 in ./envs/test/lib/python3.11/site-packages (from requests->transformers) (1.26.14)\n",
      "Requirement already satisfied: certifi>=2017.4.17 in ./envs/test/lib/python3.11/site-packages (from requests->transformers) (2022.12.7)\n",
      "Installing collected packages: tokenizers, tqdm, regex, pyyaml, huggingface-hub, transformers\n",
      "Successfully installed huggingface-hub-0.13.3 pyyaml-6.0 regex-2023.3.22 tokenizers-0.13.2 tqdm-4.65.0 transformers-4.27.2\n",
      "Note: you may need to restart the kernel to use updated packages.\n"
     ]
    }
   ],
   "source": [
    "pip install transformers"
   ]
  },
  {
   "cell_type": "code",
   "execution_count": 9,
   "id": "d17db1ef-a792-46b5-b78e-a647dbf869e0",
   "metadata": {
    "collapsed": true,
    "jupyter": {
     "outputs_hidden": true
    },
    "tags": []
   },
   "outputs": [
    {
     "name": "stdout",
     "output_type": "stream",
     "text": [
      "Requirement already satisfied: torch in ./envs/test/lib/python3.11/site-packages (2.0.0)\n",
      "Requirement already satisfied: filelock in ./envs/test/lib/python3.11/site-packages (from torch) (3.10.2)\n",
      "Requirement already satisfied: typing-extensions in ./envs/test/lib/python3.11/site-packages (from torch) (4.4.0)\n",
      "Requirement already satisfied: sympy in ./envs/test/lib/python3.11/site-packages (from torch) (1.11.1)\n",
      "Requirement already satisfied: networkx in ./envs/test/lib/python3.11/site-packages (from torch) (3.0)\n",
      "Requirement already satisfied: jinja2 in ./envs/test/lib/python3.11/site-packages (from torch) (3.1.2)\n",
      "Requirement already satisfied: MarkupSafe>=2.0 in ./envs/test/lib/python3.11/site-packages (from jinja2->torch) (2.1.1)\n",
      "Requirement already satisfied: mpmath>=0.19 in ./envs/test/lib/python3.11/site-packages (from sympy->torch) (1.3.0)\n",
      "Note: you may need to restart the kernel to use updated packages.\n"
     ]
    }
   ],
   "source": [
    "pip install torch"
   ]
  },
  {
   "cell_type": "code",
   "execution_count": 1,
   "id": "41e68639-23f5-4549-bfab-4cbacb82f143",
   "metadata": {
    "collapsed": true,
    "jupyter": {
     "outputs_hidden": true
    },
    "tags": []
   },
   "outputs": [
    {
     "name": "stderr",
     "output_type": "stream",
     "text": [
      "/Users/masanobu/miniconda3/envs/test/lib/python3.11/site-packages/tqdm/auto.py:21: TqdmWarning: IProgress not found. Please update jupyter and ipywidgets. See https://ipywidgets.readthedocs.io/en/stable/user_install.html\n",
      "  from .autonotebook import tqdm as notebook_tqdm\n"
     ]
    }
   ],
   "source": [
    "import pandas as pd\n",
    "import torch\n",
    "from torch.optim import AdamW\n",
    "from transformers import pipeline, AutoModelForSequenceClassification, BertJapaneseTokenizer"
   ]
  },
  {
   "cell_type": "code",
   "execution_count": 2,
   "id": "444879e9-5ca0-43cb-92fe-5237f6dad142",
   "metadata": {
    "collapsed": true,
    "jupyter": {
     "outputs_hidden": true
    },
    "tags": []
   },
   "outputs": [
    {
     "data": {
      "text/html": [
       "<div>\n",
       "<style scoped>\n",
       "    .dataframe tbody tr th:only-of-type {\n",
       "        vertical-align: middle;\n",
       "    }\n",
       "\n",
       "    .dataframe tbody tr th {\n",
       "        vertical-align: top;\n",
       "    }\n",
       "\n",
       "    .dataframe thead th {\n",
       "        text-align: right;\n",
       "    }\n",
       "</style>\n",
       "<table border=\"1\" class=\"dataframe\">\n",
       "  <thead>\n",
       "    <tr style=\"text-align: right;\">\n",
       "      <th></th>\n",
       "      <th>text</th>\n",
       "      <th>label</th>\n",
       "    </tr>\n",
       "  </thead>\n",
       "  <tbody>\n",
       "    <tr>\n",
       "      <th>0</th>\n",
       "      <td>サンプルコード見ながらバグってる</td>\n",
       "      <td>NEGATIVE</td>\n",
       "    </tr>\n",
       "    <tr>\n",
       "      <th>1</th>\n",
       "      <td>python多めの後にR触るとdata.trainとか書いてあるとき頭がバグる</td>\n",
       "      <td>NEGATIVE</td>\n",
       "    </tr>\n",
       "    <tr>\n",
       "      <th>7</th>\n",
       "      <td>痩せる</td>\n",
       "      <td>POSITIVE</td>\n",
       "    </tr>\n",
       "    <tr>\n",
       "      <th>8</th>\n",
       "      <td>ホームページの写真、新しくしてもらったんだけど顔丸すぎて萎えた</td>\n",
       "      <td>NEGATIVE</td>\n",
       "    </tr>\n",
       "    <tr>\n",
       "      <th>9</th>\n",
       "      <td>はい！再来週やります！\\n無料なのでお気軽にご参加ください😊 https://t.co/Vf...</td>\n",
       "      <td>POSITIVE</td>\n",
       "    </tr>\n",
       "    <tr>\n",
       "      <th>...</th>\n",
       "      <td>...</td>\n",
       "      <td>...</td>\n",
       "    </tr>\n",
       "    <tr>\n",
       "      <th>172</th>\n",
       "      <td>肉眼ならいい感じに見えたのになー</td>\n",
       "      <td>POSITIVE</td>\n",
       "    </tr>\n",
       "    <tr>\n",
       "      <th>173</th>\n",
       "      <td>都会の月食(うるとらわかりにくい) https://t.co/5wIeonJexx</td>\n",
       "      <td>NEGATIVE</td>\n",
       "    </tr>\n",
       "    <tr>\n",
       "      <th>174</th>\n",
       "      <td>復習します！</td>\n",
       "      <td>POSITIVE</td>\n",
       "    </tr>\n",
       "    <tr>\n",
       "      <th>175</th>\n",
       "      <td>講師勉強会、今日はとてもむじゅかしぃでした\\n(ミュート外れてるのに気付かずに独り言聞かれた人)</td>\n",
       "      <td>POSITIVE</td>\n",
       "    </tr>\n",
       "    <tr>\n",
       "      <th>176</th>\n",
       "      <td>@YuHigashikawa 一見よくわからないことがきちんと証明されるとおおおーー！！って...</td>\n",
       "      <td>POSITIVE</td>\n",
       "    </tr>\n",
       "  </tbody>\n",
       "</table>\n",
       "<p>104 rows × 2 columns</p>\n",
       "</div>"
      ],
      "text/plain": [
       "                                                  text     label\n",
       "0                                     サンプルコード見ながらバグってる  NEGATIVE\n",
       "1              python多めの後にR触るとdata.trainとか書いてあるとき頭がバグる  NEGATIVE\n",
       "7                                                  痩せる  POSITIVE\n",
       "8                      ホームページの写真、新しくしてもらったんだけど顔丸すぎて萎えた  NEGATIVE\n",
       "9    はい！再来週やります！\\n無料なのでお気軽にご参加ください😊 https://t.co/Vf...  POSITIVE\n",
       "..                                                 ...       ...\n",
       "172                                   肉眼ならいい感じに見えたのになー  POSITIVE\n",
       "173          都会の月食(うるとらわかりにくい) https://t.co/5wIeonJexx  NEGATIVE\n",
       "174                                             復習します！  POSITIVE\n",
       "175   講師勉強会、今日はとてもむじゅかしぃでした\\n(ミュート外れてるのに気付かずに独り言聞かれた人)  POSITIVE\n",
       "176  @YuHigashikawa 一見よくわからないことがきちんと証明されるとおおおーー！！って...  POSITIVE\n",
       "\n",
       "[104 rows x 2 columns]"
      ]
     },
     "execution_count": 2,
     "metadata": {},
     "output_type": "execute_result"
    }
   ],
   "source": [
    "df = pd.read_csv('sugakubunka.csv')\n",
    "df.dropna(inplace=True)\n",
    "df = df.drop([\"Unnamed: 0\",\"text_cleaned\"],axis=1)\n",
    "df[\"label\"] = df[\"label\"].astype(int)\n",
    "df = df.replace({0:'NEGATIVE', 1:'POSITIVE'})\n",
    "df"
   ]
  },
  {
   "cell_type": "code",
   "execution_count": 3,
   "id": "36865bb4-2329-424a-a0c4-3cc4390d37ed",
   "metadata": {},
   "outputs": [],
   "source": [
    "train_docs = df[\"text\"].tolist()\n",
    "train_labels = df[\"label\"].tolist()"
   ]
  },
  {
   "cell_type": "code",
   "execution_count": 13,
   "id": "d69bbd57-2b2b-4da3-985a-76dcac555195",
   "metadata": {
    "collapsed": true,
    "jupyter": {
     "outputs_hidden": true
    },
    "tags": []
   },
   "outputs": [
    {
     "name": "stderr",
     "output_type": "stream",
     "text": [
      "Downloading pytorch_model.bin: 100%|████████████████████████████████████████████████████| 445M/445M [12:06<00:00, 613kB/s]\n",
      "Some weights of the model checkpoint at cl-tohoku/bert-base-japanese-whole-word-masking were not used when initializing BertForSequenceClassification: ['cls.predictions.transform.LayerNorm.bias', 'cls.predictions.transform.dense.weight', 'cls.predictions.bias', 'cls.predictions.decoder.weight', 'cls.seq_relationship.weight', 'cls.seq_relationship.bias', 'cls.predictions.transform.dense.bias', 'cls.predictions.transform.LayerNorm.weight']\n",
      "- This IS expected if you are initializing BertForSequenceClassification from the checkpoint of a model trained on another task or with another architecture (e.g. initializing a BertForSequenceClassification model from a BertForPreTraining model).\n",
      "- This IS NOT expected if you are initializing BertForSequenceClassification from the checkpoint of a model that you expect to be exactly identical (initializing a BertForSequenceClassification model from a BertForSequenceClassification model).\n",
      "Some weights of BertForSequenceClassification were not initialized from the model checkpoint at cl-tohoku/bert-base-japanese-whole-word-masking and are newly initialized: ['classifier.weight', 'classifier.bias']\n",
      "You should probably TRAIN this model on a down-stream task to be able to use it for predictions and inference.\n"
     ]
    }
   ],
   "source": [
    "id2label = {0: \"NEGATIVE\", 1: \"POSITIVE\"}\n",
    "label2id = {\"NEGATIVE\": 0, \"POSITIVE\": 1}\n",
    "\n",
    "model_name = \"cl-tohoku/bert-base-japanese-whole-word-masking\"\n",
    "model = AutoModelForSequenceClassification.from_pretrained(model_name, num_labels=2, id2label=id2label, label2id=label2id)\n",
    "tokenizer = BertJapaneseTokenizer.from_pretrained(model_name)"
   ]
  },
  {
   "cell_type": "code",
   "execution_count": 14,
   "id": "1b486856-95f8-4690-9405-f73d293554d6",
   "metadata": {},
   "outputs": [],
   "source": [
    "encodings = tokenizer(train_docs, return_tensors='pt', padding=True, truncation=True, max_length=128)\n",
    "input_ids = encodings['input_ids']\n",
    "attention_mask = encodings['attention_mask']"
   ]
  },
  {
   "cell_type": "code",
   "execution_count": 15,
   "id": "45a86554-82f0-47cc-8d0e-58db29c681af",
   "metadata": {},
   "outputs": [],
   "source": [
    "# Fine-tuning in native PyTorch\n",
    "\n",
    "# the AdamW() optimizer which implements gradient bias correction as well as weight decay.\n",
    "optimizer = AdamW(model.parameters(), lr=1e-5)\n",
    "\n",
    "labels = [label2id[label] for label in train_labels]\n",
    "labels = torch.tensor(labels).unsqueeze(0)\n",
    "outputs = model(input_ids, attention_mask=attention_mask, labels=labels)\n",
    "loss = outputs.loss\n",
    "loss.backward()\n",
    "optimizer.step()"
   ]
  },
  {
   "cell_type": "code",
   "execution_count": 26,
   "id": "8472ecd8-38ae-4481-a15e-09e73f6efc20",
   "metadata": {},
   "outputs": [
    {
     "data": {
      "text/plain": [
       "[{'label': 'POSITIVE', 'score': 0.5616199374198914}]"
      ]
     },
     "execution_count": 26,
     "metadata": {},
     "output_type": "execute_result"
    }
   ],
   "source": [
    "sentiment_analyzer = pipeline(\"sentiment-analysis\", model=model, tokenizer=tokenizer)\n",
    "sentiment_analyzer(\"地震怖い\")"
   ]
  },
  {
   "cell_type": "code",
   "execution_count": 17,
   "id": "267f95d6-2a2c-4818-842c-ef84e1e124fa",
   "metadata": {
    "collapsed": true,
    "jupyter": {
     "outputs_hidden": true
    },
    "tags": []
   },
   "outputs": [
    {
     "name": "stdout",
     "output_type": "stream",
     "text": [
      "サンプルコード見ながらバグってる: [{'label': 'POSITIVE', 'score': 0.5391868948936462}]\n",
      "python多めの後にR触るとdata.trainとか書いてあるとき頭がバグる: [{'label': 'POSITIVE', 'score': 0.535291314125061}]\n",
      "痩せる: [{'label': 'POSITIVE', 'score': 0.5796484351158142}]\n",
      "ホームページの写真、新しくしてもらったんだけど顔丸すぎて萎えた: [{'label': 'POSITIVE', 'score': 0.5957570672035217}]\n",
      "はい！再来週やります！\n",
      "無料なのでお気軽にご参加ください😊 https://t.co/VfSozauXFf: [{'label': 'POSITIVE', 'score': 0.5378047227859497}]\n",
      "あほすぎていろいろミスったごめんなさいいいいいいいい: [{'label': 'POSITIVE', 'score': 0.5752238035202026}]\n",
      "こないだ楕円曲線やった流れでmodular formの勉強ちゃんとしてみたい欲がきてる\n",
      "これとか読めたらいいなって思うけどなかなか時間がない🥺\n",
      " https://t.co/PEH0W6jMGm: [{'label': 'POSITIVE', 'score': 0.5618516206741333}]\n",
      "数学会久しぶりに行きたいな\n",
      "お祭りみあって楽しい🤤: [{'label': 'POSITIVE', 'score': 0.5314012765884399}]\n",
      "現代数学レクチャーシリーズのお手伝いしてきました！\n",
      "去年東工大のレクチャーシアターでしていただいたお話のパワーアップ版、楽しかったーー！\n",
      "ご参加いただいた方、小野寺先生ありがとうございました🙏\n",
      "#すうがくぶんか: [{'label': 'POSITIVE', 'score': 0.5564006567001343}]\n",
      "励みになります🙏: [{'label': 'POSITIVE', 'score': 0.5632424354553223}]\n",
      "確認がてら各ページ見てるんですけど、めっちゃいい感じになりますよ！ https://t.co/Wz4mJ5ki2R: [{'label': 'POSITIVE', 'score': 0.5898711681365967}]\n",
      "終盤に下げちゃって悔しい\n",
      "春シーズンは26踏みたいなー https://t.co/gZIODNo8lR: [{'label': 'POSITIVE', 'score': 0.5858317613601685}]\n",
      "最上位勢すごすぎる…: [{'label': 'POSITIVE', 'score': 0.5706427097320557}]\n",
      "ぴかぴかだ！かっこよ！ https://t.co/H8ipWSs9Oi: [{'label': 'POSITIVE', 'score': 0.6041179895401001}]\n",
      "あるもの全部入れたら大変なことになった🥩🥬 https://t.co/lsBBBGF4Ds: [{'label': 'POSITIVE', 'score': 0.5757923126220703}]\n",
      "花粉すごそう: [{'label': 'POSITIVE', 'score': 0.589630663394928}]\n",
      "あったかいねー: [{'label': 'POSITIVE', 'score': 0.6285898089408875}]\n",
      "楽しい本！！\n",
      "オンデマンドになってるの知らなかった🙃 https://t.co/4xnEVdQvGh: [{'label': 'POSITIVE', 'score': 0.572917103767395}]\n",
      "お医者さんから走るのもいいけど自転車漕ぐのも膝にやさしくていいよって言われて最近のジムはずっと漕いでるんだけど、上半身が暇すぎて漕ぎながら数学の本読みはじめちゃった: [{'label': 'POSITIVE', 'score': 0.6051588654518127}]\n",
      "スペースありがとうございましたー！\n",
      "30分って聞いてたのに1時間超えてて草\n",
      "\n",
      "社長の代数幾何と数理統計に対する情熱が聞けて面白かった😌: [{'label': 'POSITIVE', 'score': 0.5967113971710205}]\n",
      "毎回イヤリング準備するのにつけるの忘れちゃう: [{'label': 'POSITIVE', 'score': 0.5281856060028076}]\n",
      "勉強会楽しかったー！\n",
      "チョコ配布bdtしてくる🍫 https://t.co/g27ofr4Ww4: [{'label': 'POSITIVE', 'score': 0.5844837427139282}]\n",
      "RT @yamyam_topo: 「行間」の少ない数学書を、入門レベルに留まらずできるだけ先の方まで用意するという試みは、徐々に進んできていると思うし、この流れは歓迎すべきことだと思う。簡潔にまとまった本でストイックにやるのが唯一の選択肢というのは厳しすぎる。: [{'label': 'POSITIVE', 'score': 0.5722327828407288}]\n",
      "@namatameuraura 楽しく眺められる数学書ですよね！: [{'label': 'POSITIVE', 'score': 0.6139107942581177}]\n",
      "スクショには写らない悲しさがあるから https://t.co/EP3ozplYO7: [{'label': 'POSITIVE', 'score': 0.5622541904449463}]\n",
      "ああああーiPhoneの画面変になってる！！！！\n",
      "さっき落としたからだ！！！: [{'label': 'POSITIVE', 'score': 0.5838132500648499}]\n",
      "本屋さん、上のフロアの数学コーナーがメインの目的でも階段使って他のフロア眺めちゃう楽しい: [{'label': 'POSITIVE', 'score': 0.5467208623886108}]\n",
      "あああああああディズニー行きたいいいいいいいいい\n",
      "耳つけてポップコーンぶら下げたいいいいいいいい: [{'label': 'POSITIVE', 'score': 0.6032422184944153}]\n",
      "昨日の整数論入門はフェルマーの最終定理のn=4しましたー\n",
      "解をこねこねして新しい解を作る系のお話楽しい🤤\n",
      "#すうがくぶんか https://t.co/lhjUYNI4Qh: [{'label': 'POSITIVE', 'score': 0.537093460559845}]\n",
      "山本せんせがくれたお土産八つ橋うまうま: [{'label': 'POSITIVE', 'score': 0.56980299949646}]\n",
      "みんな大好き圏論: [{'label': 'POSITIVE', 'score': 0.5899431705474854}]\n",
      "羽生先生たこ焼き焼いてるのかわいい: [{'label': 'POSITIVE', 'score': 0.5625962615013123}]\n",
      "デレデレしながら手振っちゃったけど急に知らん人いて怖かったよねごめんね: [{'label': 'POSITIVE', 'score': 0.6315285563468933}]\n",
      "zoomで受講相談をしてると赤ちゃん同席なことがあってにこにこしちゃう: [{'label': 'POSITIVE', 'score': 0.5584331750869751}]\n",
      "新年会行ってから山本せんせーと内場せんせーに遊んでもらった\n",
      "あざしたー🙏: [{'label': 'POSITIVE', 'score': 0.5593147873878479}]\n",
      "うちのタコちゃんもかわいい https://t.co/MMwvkqOYIm: [{'label': 'POSITIVE', 'score': 0.5710890293121338}]\n",
      "かわいい: [{'label': 'POSITIVE', 'score': 0.5990867614746094}]\n",
      "本日の整数論入門！\n",
      "平方剰余の相互法則に向けて爆進中🌋\n",
      "\n",
      "高校数学でもここまでやれたらめっちゃおもしろいのになぁ\n",
      "どうしたって時間足り無さそうなのが悔やまれる😩\n",
      "#すうがくぶんか https://t.co/96z9EAdCsQ: [{'label': 'POSITIVE', 'score': 0.5503263473510742}]\n",
      "共通テスト！\n",
      "みなさん実力が出せるようお祈りしています🙏: [{'label': 'POSITIVE', 'score': 0.5453605651855469}]\n",
      "同じ服が増えていく… https://t.co/kJ8DWAFd19: [{'label': 'POSITIVE', 'score': 0.566753089427948}]\n",
      "お年玉の相場わかんねーーーって毎年思ってる: [{'label': 'POSITIVE', 'score': 0.557500958442688}]\n",
      "面白そうだけど2000円までしかあげたことないからこれやったら増額の確率の方が高かった: [{'label': 'POSITIVE', 'score': 0.6081023812294006}]\n",
      "お買い物行ったのに計算用紙買うの忘れた人はい: [{'label': 'POSITIVE', 'score': 0.5253440737724304}]\n",
      "@sakutetsu_kyomu はぴはぴです😘: [{'label': 'POSITIVE', 'score': 0.578669011592865}]\n",
      "@sakutetsu_kyomu もうかわいくてそっこーで帰省しました😇😇😇😇😇😇: [{'label': 'POSITIVE', 'score': 0.5772882699966431}]\n",
      "@iori__0930 子、一瞬ででかくなるよ: [{'label': 'POSITIVE', 'score': 0.593291699886322}]\n",
      "@iori__0930 3年生よ\n",
      "一緒にゲームしたくてSwitch持ってきてくれるしもう無限にかわいい: [{'label': 'POSITIVE', 'score': 0.5741302371025085}]\n",
      "はあもうかわいい: [{'label': 'POSITIVE', 'score': 0.6054704785346985}]\n",
      "帰省するまで開封待ってくれてたらしい\n",
      "かわいくてはげそう: [{'label': 'POSITIVE', 'score': 0.6030774116516113}]\n",
      "サンタさんにもらったポケモンカードの開封の儀をする甥っ子くん\n",
      "ウルトラぷりてぃ🥰 https://t.co/5kYFBkdUOl: [{'label': 'POSITIVE', 'score': 0.545565664768219}]\n",
      "@jijili_jijili やったあ！\n",
      "東戸塚のどっかにいる予定です！: [{'label': 'POSITIVE', 'score': 0.6016290783882141}]\n",
      "@jijili_jijili いっぱいいるよ\n",
      "わんは満席になっちゃったってさ: [{'label': 'POSITIVE', 'score': 0.581882655620575}]\n",
      "お酒を飲むと数学したくなるよねわかる: [{'label': 'POSITIVE', 'score': 0.578137993812561}]\n",
      "東京帰ってきたー！！\n",
      "1週間帰らなかったけどちゃんと家あるかなぁ: [{'label': 'POSITIVE', 'score': 0.62076336145401}]\n",
      "@haru_negami 未読でした！ちょろっとAmazonで覗いたんですけどめっちゃ綺麗な本ですね☺️\n",
      "年末のお供にしようと思います！\n",
      "\n",
      "こちらこそ来年も引き続きよろしくお願いします🙏: [{'label': 'POSITIVE', 'score': 0.5867955684661865}]\n",
      "RT @muni_gurume: 【ダカフェ】\n",
      "@東京：恵比寿駅から徒歩5分\n",
      "\n",
      "グラスいっぱいにイチゴを敷き詰めた「ぞっこん苺ソフト」を食べられるお店。\n",
      "八百屋が運営するフルーツ専門店で、旬のイチゴをゴロゴロ入れた食べ応え抜群なスイーツ！\n",
      "ソフトクリームの濃厚な風味とイチゴが混…: [{'label': 'POSITIVE', 'score': 0.5366004705429077}]\n",
      "ポテサラクリスマスツリーおいしかったー🎅 https://t.co/ZsaSfWh5kq: [{'label': 'POSITIVE', 'score': 0.5655742287635803}]\n",
      "@kadamasaru @nekomath271828 数学餡、めっちゃありますね🤤: [{'label': 'POSITIVE', 'score': 0.5722286105155945}]\n",
      "車掌さんにもらった新幹線カードドヤ顔で見せてくれた！！！かわいい！！！！！！: [{'label': 'POSITIVE', 'score': 0.5903895497322083}]\n",
      "梅崎先生の娘さんもウルトラ天使だった☺️☺️☺️☺️☺️☺️: [{'label': 'POSITIVE', 'score': 0.5554344654083252}]\n",
      "新幹線乗ったら前の席にいた知らない子に遊んでもらってるかわいい☺️: [{'label': 'POSITIVE', 'score': 0.5459498763084412}]\n",
      "わあ！PyTorch版！！\n",
      "買います！！！！！(ง˘ω˘)ว(ง˘ω˘)ว https://t.co/fPSxoodm0v: [{'label': 'POSITIVE', 'score': 0.5581528544425964}]\n",
      "電車でカリキュラム作っててふと顔上げたらめっちゃ山の中だった: [{'label': 'POSITIVE', 'score': 0.5789539217948914}]\n",
      "サポートベクトルマシンの本もすごくよさげ\n",
      "授業計画するときにめっちゃ参考になりそう😲: [{'label': 'POSITIVE', 'score': 0.5647368431091309}]\n",
      "キッチンの電球切れちゃってぬーんってしてたらトイレの電球も切れた: [{'label': 'POSITIVE', 'score': 0.5833600759506226}]\n",
      "すうがくぶんか講師勉強会、最近は環論やってます\n",
      "ほのぼのな雰囲気でとてもよき\n",
      "#すうがくぶんか https://t.co/zpZtqA9dB9: [{'label': 'POSITIVE', 'score': 0.5348498225212097}]\n",
      "あ、ちなみに次回からのテーマは平方剰余です。\n",
      "実数の範囲では2乗して-1になる数はないと高校数学で習いますが、mod5では2^2≡-1、です🤔\n",
      "こんな合同式の謎ムーブの裏にも秩序が隠されていることを見ていきます👐\n",
      "#すうがくぶんか… https://t.co/2yLZwb6pmo: [{'label': 'POSITIVE', 'score': 0.5519368648529053}]\n",
      "スペースシューターくらいブレてる: [{'label': 'POSITIVE', 'score': 0.5114872455596924}]\n",
      "整数論入門の予習もりもり\n",
      "次回から新しい内容に入るので楽しみです☺️\n",
      "\n",
      "先週は素数や4n+3型の素数が無限にあることを証明しました🖋 https://t.co/FesA8l5tBt: [{'label': 'POSITIVE', 'score': 0.5311535000801086}]\n",
      "来期の準備がじわじわ進んでる\n",
      "楽しみ🤤: [{'label': 'POSITIVE', 'score': 0.5150879621505737}]\n",
      "ぐぐって出てきたやつ以外にも弊社のYouTube動画から切り出してデータ集め頑張ってたみたいです\n",
      "フォルダが内場ガチ恋勢みたいになっててすごい😲 https://t.co/b4OmcIhlq4: [{'label': 'POSITIVE', 'score': 0.559299886226654}]\n",
      "機械学習の輪読で弊社社長の画像を畳み込みニューラルネットで判別する発表をしていただきました😌\n",
      "集めたデータのインパクトw\n",
      "#すうがくぶんか https://t.co/UwezESu5g0: [{'label': 'POSITIVE', 'score': 0.5612339377403259}]\n",
      "学部2年の夏はアティマクにほとんど使ったしその後も何度も勉強会やってるしとても長い付き合い: [{'label': 'POSITIVE', 'score': 0.5796815752983093}]\n",
      "もう何度目かわからないアティマクを読む機会が発生しててうれしい☺️: [{'label': 'POSITIVE', 'score': 0.5143515467643738}]\n",
      "びわカントリーマアムご馳走様です☺️ https://t.co/Fcyv8VMxZf: [{'label': 'POSITIVE', 'score': 0.5410903692245483}]\n",
      "イヤホン買うの忘れてたー\n",
      "走りながら音楽聴こうと思ってたのに😇: [{'label': 'POSITIVE', 'score': 0.5896996855735779}]\n",
      "西郷先生ありがとうございました！\n",
      "今録画で拝見させていただいています\n",
      "\n",
      "指数関数に絡めて準同型や位相空間など本格的な話題もでてきますが、不思議とするするきけてしまう講義です😮\n",
      "\n",
      "録画販売ありますので皆さまも是非🙏\n",
      "#すうがくぶんか https://t.co/tEjA1SMfs2: [{'label': 'POSITIVE', 'score': 0.5347179770469666}]\n",
      "@KURU888333 着れればメンズでもレディースでも⭕️: [{'label': 'POSITIVE', 'score': 0.5042577385902405}]\n",
      "@KURU888333 つらみ😢: [{'label': 'POSITIVE', 'score': 0.549651563167572}]\n",
      "「藤井竜王がタイトル戦の七番勝負で2敗するのは初めてです」\n",
      "\n",
      "さらっとえぐいこと書いてあって笑っちゃう https://t.co/vOqOakf5mB: [{'label': 'POSITIVE', 'score': 0.5709378719329834}]\n",
      "@YuHigashikawa ありがとうございます😊\n",
      "動画も便利ですけど、数学は議論して手を動かしてやっと身につく部分が大きいですね: [{'label': 'POSITIVE', 'score': 0.5953312516212463}]\n",
      "ガウス、登録はその位置だけど全ポジションできそう\n",
      "自分で奪ってキープしてセンタリング上げてゴールまで決めそう https://t.co/SZY6VNQGpT: [{'label': 'POSITIVE', 'score': 0.5773735046386719}]\n",
      "最近またコピュラについて聞かれるし、腰据えて勉強しようかな: [{'label': 'POSITIVE', 'score': 0.6024733781814575}]\n",
      "イルミネーションの季節だねぇ☺️\n",
      "(寒がりながら帰ってる) https://t.co/7ctez19Hv8: [{'label': 'POSITIVE', 'score': 0.583628237247467}]\n",
      "とりあえず目次見て丸の内ロジスティックでふふってなった人、自分だけじゃないはず: [{'label': 'POSITIVE', 'score': 0.5756328105926514}]\n",
      "来週開催の西郷先生による「指数関数うらばなし」もめちゃくちゃ楽しいお話が聞けそうで楽しみです\n",
      "皆さまお時間ありましたら是非(録画もあります！) https://t.co/28dAeLqLR2: [{'label': 'POSITIVE', 'score': 0.5213932991027832}]\n",
      "圏論の地平線、まだ読み途中だけどどこから読んでもみんな違ってみんな面白いし、全部聞き手されてる西郷先生がスーパーすぎてびっくりする😮: [{'label': 'POSITIVE', 'score': 0.5632972717285156}]\n",
      "元気に一年過ごしてくれてまた祝わせてもらえることがありがたいのですよ🙏: [{'label': 'POSITIVE', 'score': 0.6239975690841675}]\n",
      "大切な友達の誕生日祝えてよかったー https://t.co/5QLazEt9rc: [{'label': 'POSITIVE', 'score': 0.5765352249145508}]\n",
      "それはそれで楽しそう: [{'label': 'POSITIVE', 'score': 0.6137325763702393}]\n",
      "社長氏にS+50っすよ！っていったらやばい人扱いされた: [{'label': 'POSITIVE', 'score': 0.588931143283844}]\n",
      "すーし！すーし！すーし！\n",
      "#すうがくぶんか https://t.co/ndl8al5KBq: [{'label': 'POSITIVE', 'score': 0.5657790303230286}]\n",
      "地震こわいひいいいいいってなるこわい: [{'label': 'NEGATIVE', 'score': 0.503680944442749}]\n",
      "ここまで走れたんだからプラス1分いけるでしょって帰納法回ってずっと走っちゃう🏃: [{'label': 'POSITIVE', 'score': 0.6077024340629578}]\n",
      "最近ジム通い始めたんだけど、走るの楽しくてしょっちゅう行っちゃう: [{'label': 'POSITIVE', 'score': 0.6005789637565613}]\n",
      "@tropicalrig 西郷先生ーーー！！！\n",
      "大切に読ませていただきます🙏: [{'label': 'POSITIVE', 'score': 0.5617071986198425}]\n",
      "圏論の地平線と新宿ねこちゃん🐱 https://t.co/1gMb1jSiNv: [{'label': 'POSITIVE', 'score': 0.5536322593688965}]\n",
      "友達の誕プレにいい感じの梅酒とか果実酒的なものを探し中🤔: [{'label': 'POSITIVE', 'score': 0.5400615930557251}]\n",
      "@TKT_Yamamoto 買っちゃお📸: [{'label': 'POSITIVE', 'score': 0.5948474407196045}]\n",
      "肉眼ならいい感じに見えたのになー: [{'label': 'POSITIVE', 'score': 0.6210036277770996}]\n",
      "都会の月食(うるとらわかりにくい) https://t.co/5wIeonJexx: [{'label': 'POSITIVE', 'score': 0.5346366763114929}]\n",
      "復習します！: [{'label': 'POSITIVE', 'score': 0.5964123010635376}]\n",
      "講師勉強会、今日はとてもむじゅかしぃでした\n",
      "(ミュート外れてるのに気付かずに独り言聞かれた人): [{'label': 'POSITIVE', 'score': 0.5157335996627808}]\n",
      "@YuHigashikawa 一見よくわからないことがきちんと証明されるとおおおーー！！ってなりますね☺️\n",
      "\n",
      "次のチャプターもぜひ楽しんでください🤗: [{'label': 'POSITIVE', 'score': 0.5733177065849304}]\n"
     ]
    }
   ],
   "source": [
    "# 学習データに対する推論\n",
    "_ = list(map(lambda x: print(f\"{x}: {sentiment_analyzer(x)}\"), train_docs))"
   ]
  },
  {
   "cell_type": "code",
   "execution_count": null,
   "id": "5695bfa6-b5d7-4371-8cd9-6b03a4961cf8",
   "metadata": {},
   "outputs": [],
   "source": []
  }
 ],
 "metadata": {
  "kernelspec": {
   "display_name": "Python 3 (ipykernel)",
   "language": "python",
   "name": "python3"
  },
  "language_info": {
   "codemirror_mode": {
    "name": "ipython",
    "version": 3
   },
   "file_extension": ".py",
   "mimetype": "text/x-python",
   "name": "python",
   "nbconvert_exporter": "python",
   "pygments_lexer": "ipython3",
   "version": "3.11.0"
  }
 },
 "nbformat": 4,
 "nbformat_minor": 5
}
